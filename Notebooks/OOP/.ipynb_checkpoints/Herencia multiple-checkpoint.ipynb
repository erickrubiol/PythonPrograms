{
 "cells": [
  {
   "cell_type": "code",
   "execution_count": 30,
   "id": "cd32f40b",
   "metadata": {},
   "outputs": [],
   "source": [
    "class Vehiculo():\n",
    "    def __init__(self, color, ruedas):\n",
    "        self.color = color\n",
    "        self.ruedas = ruedas\n",
    "        \n",
    "    def __str__(self):\n",
    "        return \"Color {}, {} ruedas\".format( self.color, self.ruedas )\n",
    "    \n",
    "class Coche(Vehiculo):\n",
    "    def __init__(self, color, ruedas, velocidad, cilindrada):\n",
    "        Vehiculo.__init__(color, ruedas)\n",
    "        self.velocidad = velocidad\n",
    "        self.cilindrada = cilindrada\n",
    "    \n",
    "    def __str__(self):\n",
    "        return Vehiculo.__str__(self) + \", {} km/h, {} cc\".format(self.velocidad, self.cilindrada)\n",
    "    \n",
    "class Camioneta():\n",
    "    def __init__(self, color, ruedas, velocidad, cilindrada, carga):\n",
    "        Coche.__Init__(color, ruedas, velocidad, cilindrada)\n",
    "        self.carga = carga\n",
    "    \n",
    "    def __str__(self):\n",
    "        return Coche.__str__(self) + \", {} kg\".format(self.carga)\n",
    "    \n",
    "class Bicicleta():\n",
    "    def __init__(color, ruedas, tipo):\n",
    "        Vehiculo.__init__(self, color, ruedas)\n",
    "        self.tipo = tipo\n",
    "    \n",
    "    def __str__(self):\n",
    "        return Vehiculo.__str__(self) + \", tipo {}\".format(self.tipo)\n",
    "    \n",
    "class Motocicleta():\n",
    "    def __init__(color, ruedas, tipo, velocidad, cilindrada):\n",
    "        Bicicleta.__init__(self, color, ruedas, tipo)\n",
    "        self.velocidad = velocidad\n",
    "        self.cilindrada = cilindrada\n",
    "    \n",
    "    def __str___(self):\n",
    "        return Bicicleta.__str__(self) + \", {} km/h, {} cc\".format(self.velocidad, self.cilindrada)"
   ]
  },
  {
   "cell_type": "code",
   "execution_count": 12,
   "id": "595f9773",
   "metadata": {},
   "outputs": [
    {
     "ename": "AttributeError",
     "evalue": "type object 'Coche' has no attribute '__Init__'",
     "output_type": "error",
     "traceback": [
      "\u001b[0;31m---------------------------------------------------------------------------\u001b[0m",
      "\u001b[0;31mAttributeError\u001b[0m                            Traceback (most recent call last)",
      "\u001b[0;32m<ipython-input-12-6c365faaadfa>\u001b[0m in \u001b[0;36m<module>\u001b[0;34m\u001b[0m\n\u001b[1;32m      1\u001b[0m \u001b[0mA\u001b[0m \u001b[0;34m=\u001b[0m \u001b[0mCoche\u001b[0m\u001b[0;34m(\u001b[0m\u001b[0;34m\"rojo\"\u001b[0m\u001b[0;34m,\u001b[0m \u001b[0;36m4\u001b[0m\u001b[0;34m,\u001b[0m \u001b[0;36m160\u001b[0m\u001b[0;34m,\u001b[0m \u001b[0;36m1600\u001b[0m\u001b[0;34m)\u001b[0m\u001b[0;34m\u001b[0m\u001b[0;34m\u001b[0m\u001b[0m\n\u001b[0;32m----> 2\u001b[0;31m \u001b[0mB\u001b[0m \u001b[0;34m=\u001b[0m \u001b[0mCamioneta\u001b[0m\u001b[0;34m(\u001b[0m\u001b[0;34m\"negro\"\u001b[0m\u001b[0;34m,\u001b[0m \u001b[0;36m4\u001b[0m\u001b[0;34m,\u001b[0m \u001b[0;36m130\u001b[0m\u001b[0;34m,\u001b[0m \u001b[0;36m2400\u001b[0m\u001b[0;34m,\u001b[0m \u001b[0;36m1500\u001b[0m\u001b[0;34m)\u001b[0m\u001b[0;34m\u001b[0m\u001b[0;34m\u001b[0m\u001b[0m\n\u001b[0m\u001b[1;32m      3\u001b[0m \u001b[0mC\u001b[0m \u001b[0;34m=\u001b[0m \u001b[0mBicicleta\u001b[0m\u001b[0;34m(\u001b[0m\u001b[0;34m\"azul\"\u001b[0m\u001b[0;34m,\u001b[0m \u001b[0;36m2\u001b[0m\u001b[0;34m,\u001b[0m \u001b[0;34m\"urbana\"\u001b[0m\u001b[0;34m)\u001b[0m\u001b[0;34m\u001b[0m\u001b[0;34m\u001b[0m\u001b[0m\n\u001b[1;32m      4\u001b[0m \u001b[0mD\u001b[0m \u001b[0;34m=\u001b[0m \u001b[0mMotocicleta\u001b[0m\u001b[0;34m(\u001b[0m\u001b[0;34m\"naranja\"\u001b[0m\u001b[0;34m,\u001b[0m \u001b[0;36m2\u001b[0m\u001b[0;34m,\u001b[0m \u001b[0;34m\"deportiva\"\u001b[0m\u001b[0;34m,\u001b[0m \u001b[0;36m200\u001b[0m\u001b[0;34m,\u001b[0m \u001b[0;36m1800\u001b[0m\u001b[0;34m)\u001b[0m\u001b[0;34m\u001b[0m\u001b[0;34m\u001b[0m\u001b[0m\n\u001b[1;32m      5\u001b[0m \u001b[0;34m\u001b[0m\u001b[0m\n",
      "\u001b[0;32m<ipython-input-11-617fb9aaf75d>\u001b[0m in \u001b[0;36m__init__\u001b[0;34m(self, color, ruedas, velocidad, cilindrada, carga)\u001b[0m\n\u001b[1;32m     18\u001b[0m \u001b[0;32mclass\u001b[0m \u001b[0mCamioneta\u001b[0m\u001b[0;34m(\u001b[0m\u001b[0mCoche\u001b[0m\u001b[0;34m)\u001b[0m\u001b[0;34m:\u001b[0m\u001b[0;34m\u001b[0m\u001b[0;34m\u001b[0m\u001b[0m\n\u001b[1;32m     19\u001b[0m     \u001b[0;32mdef\u001b[0m \u001b[0m__init__\u001b[0m\u001b[0;34m(\u001b[0m\u001b[0mself\u001b[0m\u001b[0;34m,\u001b[0m \u001b[0mcolor\u001b[0m\u001b[0;34m,\u001b[0m \u001b[0mruedas\u001b[0m\u001b[0;34m,\u001b[0m \u001b[0mvelocidad\u001b[0m\u001b[0;34m,\u001b[0m \u001b[0mcilindrada\u001b[0m\u001b[0;34m,\u001b[0m \u001b[0mcarga\u001b[0m\u001b[0;34m)\u001b[0m\u001b[0;34m:\u001b[0m\u001b[0;34m\u001b[0m\u001b[0;34m\u001b[0m\u001b[0m\n\u001b[0;32m---> 20\u001b[0;31m         \u001b[0mCoche\u001b[0m\u001b[0;34m.\u001b[0m\u001b[0m__Init__\u001b[0m\u001b[0;34m(\u001b[0m\u001b[0mself\u001b[0m\u001b[0;34m,\u001b[0m \u001b[0mcolor\u001b[0m\u001b[0;34m,\u001b[0m \u001b[0mruedas\u001b[0m\u001b[0;34m,\u001b[0m \u001b[0mvelocidad\u001b[0m\u001b[0;34m,\u001b[0m \u001b[0mcilindrada\u001b[0m\u001b[0;34m)\u001b[0m\u001b[0;34m\u001b[0m\u001b[0;34m\u001b[0m\u001b[0m\n\u001b[0m\u001b[1;32m     21\u001b[0m         \u001b[0mself\u001b[0m\u001b[0;34m.\u001b[0m\u001b[0mcarga\u001b[0m \u001b[0;34m=\u001b[0m \u001b[0mcarga\u001b[0m\u001b[0;34m\u001b[0m\u001b[0;34m\u001b[0m\u001b[0m\n\u001b[1;32m     22\u001b[0m \u001b[0;34m\u001b[0m\u001b[0m\n",
      "\u001b[0;31mAttributeError\u001b[0m: type object 'Coche' has no attribute '__Init__'"
     ]
    }
   ],
   "source": [
    "A = Coche(\"rojo\", 4, 160, 1600)\n",
    "B = Camioneta(\"negro\", 4, 130, 2400, 1500)\n",
    "C = Bicicleta(\"azul\", 2, \"urbana\")\n",
    "D = Motocicleta(\"naranja\", 2, \"deportiva\", 200, 1800)\n",
    "\n",
    "vehiculos = [A,B,C,D]"
   ]
  },
  {
   "cell_type": "code",
   "execution_count": 18,
   "id": "9e5e4f0d",
   "metadata": {},
   "outputs": [],
   "source": [
    "A = Coche(\"rojo\", 4, 160, 1600)"
   ]
  },
  {
   "cell_type": "code",
   "execution_count": 31,
   "id": "3c977a4a",
   "metadata": {},
   "outputs": [
    {
     "ename": "AttributeError",
     "evalue": "type object 'Coche' has no attribute '__Init__'",
     "output_type": "error",
     "traceback": [
      "\u001b[0;31m---------------------------------------------------------------------------\u001b[0m",
      "\u001b[0;31mAttributeError\u001b[0m                            Traceback (most recent call last)",
      "\u001b[0;32m<ipython-input-31-74c1eb874bcb>\u001b[0m in \u001b[0;36m<module>\u001b[0;34m\u001b[0m\n\u001b[0;32m----> 1\u001b[0;31m \u001b[0mB\u001b[0m \u001b[0;34m=\u001b[0m \u001b[0mCamioneta\u001b[0m\u001b[0;34m(\u001b[0m\u001b[0;34m\"rojo\"\u001b[0m\u001b[0;34m,\u001b[0m \u001b[0;36m4\u001b[0m\u001b[0;34m,\u001b[0m \u001b[0;36m160\u001b[0m\u001b[0;34m,\u001b[0m \u001b[0;36m1600\u001b[0m\u001b[0;34m,\u001b[0m \u001b[0;36m1200\u001b[0m\u001b[0;34m)\u001b[0m\u001b[0;34m\u001b[0m\u001b[0;34m\u001b[0m\u001b[0m\n\u001b[0m",
      "\u001b[0;32m<ipython-input-30-a571c0c603bf>\u001b[0m in \u001b[0;36m__init__\u001b[0;34m(self, color, ruedas, velocidad, cilindrada, carga)\u001b[0m\n\u001b[1;32m     18\u001b[0m \u001b[0;32mclass\u001b[0m \u001b[0mCamioneta\u001b[0m\u001b[0;34m(\u001b[0m\u001b[0;34m)\u001b[0m\u001b[0;34m:\u001b[0m\u001b[0;34m\u001b[0m\u001b[0;34m\u001b[0m\u001b[0m\n\u001b[1;32m     19\u001b[0m     \u001b[0;32mdef\u001b[0m \u001b[0m__init__\u001b[0m\u001b[0;34m(\u001b[0m\u001b[0mself\u001b[0m\u001b[0;34m,\u001b[0m \u001b[0mcolor\u001b[0m\u001b[0;34m,\u001b[0m \u001b[0mruedas\u001b[0m\u001b[0;34m,\u001b[0m \u001b[0mvelocidad\u001b[0m\u001b[0;34m,\u001b[0m \u001b[0mcilindrada\u001b[0m\u001b[0;34m,\u001b[0m \u001b[0mcarga\u001b[0m\u001b[0;34m)\u001b[0m\u001b[0;34m:\u001b[0m\u001b[0;34m\u001b[0m\u001b[0;34m\u001b[0m\u001b[0m\n\u001b[0;32m---> 20\u001b[0;31m         \u001b[0mCoche\u001b[0m\u001b[0;34m.\u001b[0m\u001b[0m__Init__\u001b[0m\u001b[0;34m(\u001b[0m\u001b[0mcolor\u001b[0m\u001b[0;34m,\u001b[0m \u001b[0mruedas\u001b[0m\u001b[0;34m,\u001b[0m \u001b[0mvelocidad\u001b[0m\u001b[0;34m,\u001b[0m \u001b[0mcilindrada\u001b[0m\u001b[0;34m)\u001b[0m\u001b[0;34m\u001b[0m\u001b[0;34m\u001b[0m\u001b[0m\n\u001b[0m\u001b[1;32m     21\u001b[0m         \u001b[0mself\u001b[0m\u001b[0;34m.\u001b[0m\u001b[0mcarga\u001b[0m \u001b[0;34m=\u001b[0m \u001b[0mcarga\u001b[0m\u001b[0;34m\u001b[0m\u001b[0;34m\u001b[0m\u001b[0m\n\u001b[1;32m     22\u001b[0m \u001b[0;34m\u001b[0m\u001b[0m\n",
      "\u001b[0;31mAttributeError\u001b[0m: type object 'Coche' has no attribute '__Init__'"
     ]
    }
   ],
   "source": [
    "B = Camioneta(\"rojo\", 4, 160, 1600, 1200)"
   ]
  },
  {
   "cell_type": "code",
   "execution_count": 20,
   "id": "2a661b58",
   "metadata": {},
   "outputs": [],
   "source": [
    "C = Bicicleta(\"azul\", 2, \"urbana\")"
   ]
  },
  {
   "cell_type": "code",
   "execution_count": 21,
   "id": "4526a3fc",
   "metadata": {},
   "outputs": [],
   "source": [
    "D = Motocicleta(\"naranja\", 2, \"deportiva\", 200, 1800)"
   ]
  }
 ],
 "metadata": {
  "kernelspec": {
   "display_name": "Python 3",
   "language": "python",
   "name": "python3"
  },
  "language_info": {
   "codemirror_mode": {
    "name": "ipython",
    "version": 3
   },
   "file_extension": ".py",
   "mimetype": "text/x-python",
   "name": "python",
   "nbconvert_exporter": "python",
   "pygments_lexer": "ipython3",
   "version": "3.8.6"
  }
 },
 "nbformat": 4,
 "nbformat_minor": 5
}
