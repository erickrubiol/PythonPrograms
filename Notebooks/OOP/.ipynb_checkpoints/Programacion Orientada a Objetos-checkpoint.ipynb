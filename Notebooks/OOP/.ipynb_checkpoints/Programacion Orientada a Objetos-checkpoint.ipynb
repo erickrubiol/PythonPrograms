{
 "cells": [
  {
   "cell_type": "markdown",
   "id": "7d9c8296",
   "metadata": {},
   "source": [
    "### Ejercicio OOP"
   ]
  },
  {
   "cell_type": "code",
   "execution_count": 2,
   "id": "a7267d9f",
   "metadata": {},
   "outputs": [],
   "source": [
    "import math"
   ]
  },
  {
   "cell_type": "code",
   "execution_count": 3,
   "id": "9ed4f529",
   "metadata": {},
   "outputs": [],
   "source": [
    "class Punto:\n",
    "    def __init__(self, X, Y):\n",
    "        self.X = X\n",
    "        self.Y = Y\n",
    "        \n",
    "    def __str__(self):\n",
    "        print(\"({},{})\".format(self.X, self.Y))\n",
    "        \n",
    "    def cuadrante(self):\n",
    "        if self.X == 0 and self.Y != 0:\n",
    "            print(\"Sobre el eje Y\")\n",
    "        elif self.X != 0 and self.Y == 0:\n",
    "            print(\"Sobre el eje X\")\n",
    "        elif self.X == 0 and self.Y == 0:\n",
    "            print(\"Sobre el origen\")\n",
    "        elif self.X > 0 and self.Y > 0:\n",
    "            print(\"Cuadrante 1\")\n",
    "        elif self.X < 0 and self.Y > 0:\n",
    "            print(\"Cuadrante 2\")\n",
    "        elif self.X < 0 and self.Y < 0:\n",
    "            print(\"Cuadrante 3\")\n",
    "        elif self.X > 0 and self.Y < 0:\n",
    "            print(\"Cuadrante 4\")\n",
    "            \n",
    "    def vector(self, pto):\n",
    "        A = pto.X - self.X\n",
    "        B = pto.Y - self.Y\n",
    "        print(\"Vector: ({},{})\".format(A,B))\n",
    "        \n",
    "    def distancia(self, pto):\n",
    "        A = pto.X - self.X\n",
    "        B = pto.Y - self.Y\n",
    "        d = math.sqrt( A**2 + B**2 )\n",
    "        print(\"Distancia: {}\".format(d))"
   ]
  },
  {
   "cell_type": "code",
   "execution_count": 4,
   "id": "3a58fa86",
   "metadata": {},
   "outputs": [],
   "source": [
    "class Rectangulo:\n",
    "    def __init__(self, I, F):\n",
    "        self.I = I\n",
    "        self.F = F\n",
    "        \n",
    "    def base(self):\n",
    "        print(\"Base: {}\".format(abs(self.F.X - self.I.X)))\n",
    "        \n",
    "    def altura(self):\n",
    "        print(\"Altura: {}\".format(abs(self.F.Y - self.I.Y)))\n",
    "        \n",
    "    def area(self):\n",
    "        base = abs(self.F.X - self.I.X)\n",
    "        altura = abs(self.F.Y - self.I.Y)\n",
    "        print(\"Area: {}\".format(base * altura))"
   ]
  },
  {
   "cell_type": "code",
   "execution_count": 10,
   "id": "4c925533",
   "metadata": {},
   "outputs": [],
   "source": [
    "A = Punto(2,3)\n",
    "B = Punto(5,5)\n",
    "C = Punto(-3,-1)\n",
    "D = Punto(0,0)"
   ]
  },
  {
   "cell_type": "code",
   "execution_count": 9,
   "id": "8817aad9",
   "metadata": {},
   "outputs": [
    {
     "name": "stdout",
     "output_type": "stream",
     "text": [
      "Cuadrante 1\n",
      "Cuadrante 3\n",
      "Sobre el origen\n"
     ]
    }
   ],
   "source": [
    "A.cuadrante()\n",
    "C.cuadrante()\n",
    "D.cuadrante()"
   ]
  },
  {
   "cell_type": "code",
   "execution_count": 11,
   "id": "9e5ca7e3",
   "metadata": {},
   "outputs": [
    {
     "name": "stdout",
     "output_type": "stream",
     "text": [
      "Vector: (3,2)\n",
      "Vector: (-3,-2)\n"
     ]
    }
   ],
   "source": [
    "A.vector(B)\n",
    "B.vector(A)"
   ]
  },
  {
   "cell_type": "code",
   "execution_count": 12,
   "id": "49d078d5",
   "metadata": {},
   "outputs": [
    {
     "name": "stdout",
     "output_type": "stream",
     "text": [
      "Distancia: 3.605551275463989\n",
      "Distancia: 3.605551275463989\n"
     ]
    }
   ],
   "source": [
    "A.distancia(B)\n",
    "B.distancia(A)"
   ]
  },
  {
   "cell_type": "code",
   "execution_count": 13,
   "id": "d94a3aaf",
   "metadata": {},
   "outputs": [
    {
     "name": "stdout",
     "output_type": "stream",
     "text": [
      "Distancia: 3.605551275463989\n",
      "Distancia: 7.0710678118654755\n",
      "Distancia: 3.1622776601683795\n"
     ]
    }
   ],
   "source": [
    "A.distancia(D)\n",
    "B.distancia(D)\n",
    "C.distancia(D)"
   ]
  },
  {
   "cell_type": "code",
   "execution_count": 14,
   "id": "9c0c1fa4",
   "metadata": {},
   "outputs": [
    {
     "name": "stdout",
     "output_type": "stream",
     "text": [
      "Base: 3\n",
      "Altura: 2\n",
      "Area: 6\n"
     ]
    }
   ],
   "source": [
    "r = Rectangulo(A,B)\n",
    "r.base()\n",
    "r.altura()\n",
    "r.area()"
   ]
  }
 ],
 "metadata": {
  "kernelspec": {
   "display_name": "Python 3",
   "language": "python",
   "name": "python3"
  },
  "language_info": {
   "codemirror_mode": {
    "name": "ipython",
    "version": 3
   },
   "file_extension": ".py",
   "mimetype": "text/x-python",
   "name": "python",
   "nbconvert_exporter": "python",
   "pygments_lexer": "ipython3",
   "version": "3.8.6"
  }
 },
 "nbformat": 4,
 "nbformat_minor": 5
}
