{
 "cells": [
  {
   "cell_type": "code",
   "execution_count": 1,
   "metadata": {},
   "outputs": [],
   "source": [
    "import pandas as pd\n",
    "import pyodbc "
   ]
  },
  {
   "cell_type": "code",
   "execution_count": 5,
   "metadata": {},
   "outputs": [],
   "source": [
    "#Credentials\n",
    "server = 'localhost,1433' \n",
    "database = 'AdventureWorksDW2017' \n",
    "username = 'sa'\n",
    "password = '@PassW0rd' "
   ]
  },
  {
   "cell_type": "code",
   "execution_count": 9,
   "metadata": {},
   "outputs": [],
   "source": [
    "#Connection\n",
    "cnxn = pyodbc.connect('DRIVER={ODBC Driver 17 for SQL Server};SERVER=' + server+';DATABASE='+database+';UID='+username+';PWD=' + password)\n",
    "cursor = cnxn.cursor()"
   ]
  },
  {
   "cell_type": "code",
   "execution_count": 11,
   "metadata": {},
   "outputs": [
    {
     "name": "stdout",
     "output_type": "stream",
     "text": [
      "(1, 'Alexandria', 'NSW', 'New South Wales', 'AU', 'Australia', 'Australia', 'Australie', '2015', 9, '198.51.100.2')\n",
      "(2, 'Coffs Harbour', 'NSW', 'New South Wales', 'AU', 'Australia', 'Australia', 'Australie', '2450', 9, '198.51.100.3')\n",
      "(3, 'Darlinghurst', 'NSW', 'New South Wales', 'AU', 'Australia', 'Australia', 'Australie', '2010', 9, '198.51.100.4')\n",
      "(4, 'Goulburn', 'NSW', 'New South Wales', 'AU', 'Australia', 'Australia', 'Australie', '2580', 9, '198.51.100.5')\n",
      "(5, 'Lane Cove', 'NSW', 'New South Wales', 'AU', 'Australia', 'Australia', 'Australie', '1597', 9, '198.51.100.6')\n",
      "(6, 'Lavender Bay', 'NSW', 'New South Wales', 'AU', 'Australia', 'Australia', 'Australie', '2060', 9, '198.51.100.7')\n",
      "(7, 'Malabar', 'NSW', 'New South Wales', 'AU', 'Australia', 'Australia', 'Australie', '2036', 9, '198.51.100.8')\n",
      "(8, 'Matraville', 'NSW', 'New South Wales', 'AU', 'Australia', 'Australia', 'Australie', '2036', 9, '198.51.100.9')\n",
      "(9, 'Milsons Point', 'NSW', 'New South Wales', 'AU', 'Australia', 'Australia', 'Australie', '2061', 9, '198.51.100.10')\n",
      "(10, 'Newcastle', 'NSW', 'New South Wales', 'AU', 'Australia', 'Australia', 'Australie', '2300', 9, '198.51.100.11')\n"
     ]
    }
   ],
   "source": [
    "# Test first 10 rows\n",
    "cursor.execute(\"SELECT top 10 * FROM DimGeography\")\n",
    "for row in cursor.fetchall():\n",
    "    print(row)"
   ]
  },
  {
   "cell_type": "code",
   "execution_count": 17,
   "metadata": {},
   "outputs": [],
   "source": [
    "#Create table in SQL Server\n",
    "cursor.execute(\"IF OBJECT_ID('dbo.Sales', 'U') IS NULL \\\n",
    "CREATE TABLE [dbo].[Sales](\\\n",
    "   [Region] [varchar](50) ,\\\n",
    "   [Country] [varchar](50) ,\\\n",
    "   [ItemType] [varchar](50) NULL,\\\n",
    "   [SalesChannel] [varchar](50) NULL,\\\n",
    "   [OrderPriority] [varchar](50) NULL,\\\n",
    "   [OrderDate]  datetime,\\\n",
    "   [OrderID] bigint NULL,\\\n",
    "   [ShipDate] datetime,\\\n",
    "   [UnitsSold]  float,\\\n",
    "   [UnitPrice] float,\\\n",
    "   [UnitCost] float,\\\n",
    "   [TotalRevenue] float,\\\n",
    "   [TotalCost]  float,\\\n",
    "   [TotalProfit] float\\\n",
    ")\")\n",
    "cnxn.commit()"
   ]
  },
  {
   "cell_type": "code",
   "execution_count": 19,
   "metadata": {},
   "outputs": [],
   "source": [
    "#Bulk Insert to the new table\n",
    "cursor.execute(\"BULK INSERT Sales \\\n",
    "FROM '/home/1500000_Sales_Records.csv' \\\n",
    "WITH (FIRSTROW = 2,\\\n",
    "      FIELDTERMINATOR = ',',\\\n",
    "      ROWTERMINATOR = '\\n',\\\n",
    "      BATCHSIZE = 250000\\\n",
    ");\")\n",
    "cnxn.commit()"
   ]
  },
  {
   "cell_type": "code",
   "execution_count": 20,
   "metadata": {},
   "outputs": [],
   "source": [
    "#Send query to Pandas\n",
    "sql_query = \"SELECT top 100 * FROM [dbo].[Sales]\"\n",
    "data = pd.read_sql(sql_query,cnxn)"
   ]
  },
  {
   "cell_type": "code",
   "execution_count": 21,
   "metadata": {},
   "outputs": [
    {
     "data": {
      "text/html": [
       "<div>\n",
       "<style scoped>\n",
       "    .dataframe tbody tr th:only-of-type {\n",
       "        vertical-align: middle;\n",
       "    }\n",
       "\n",
       "    .dataframe tbody tr th {\n",
       "        vertical-align: top;\n",
       "    }\n",
       "\n",
       "    .dataframe thead th {\n",
       "        text-align: right;\n",
       "    }\n",
       "</style>\n",
       "<table border=\"1\" class=\"dataframe\">\n",
       "  <thead>\n",
       "    <tr style=\"text-align: right;\">\n",
       "      <th></th>\n",
       "      <th>Region</th>\n",
       "      <th>Country</th>\n",
       "      <th>ItemType</th>\n",
       "      <th>SalesChannel</th>\n",
       "      <th>OrderPriority</th>\n",
       "      <th>OrderDate</th>\n",
       "      <th>OrderID</th>\n",
       "      <th>ShipDate</th>\n",
       "      <th>UnitsSold</th>\n",
       "      <th>UnitPrice</th>\n",
       "      <th>UnitCost</th>\n",
       "      <th>TotalRevenue</th>\n",
       "      <th>TotalCost</th>\n",
       "      <th>TotalProfit</th>\n",
       "    </tr>\n",
       "  </thead>\n",
       "  <tbody>\n",
       "    <tr>\n",
       "      <th>0</th>\n",
       "      <td>Sub-Saharan Africa</td>\n",
       "      <td>South Africa</td>\n",
       "      <td>Fruits</td>\n",
       "      <td>Offline</td>\n",
       "      <td>M</td>\n",
       "      <td>2012-07-27</td>\n",
       "      <td>443368995</td>\n",
       "      <td>2012-07-28</td>\n",
       "      <td>1593.0</td>\n",
       "      <td>9.33</td>\n",
       "      <td>6.92</td>\n",
       "      <td>14862.69</td>\n",
       "      <td>11023.56</td>\n",
       "      <td>3839.13</td>\n",
       "    </tr>\n",
       "    <tr>\n",
       "      <th>1</th>\n",
       "      <td>Middle East and North Africa</td>\n",
       "      <td>Morocco</td>\n",
       "      <td>Clothes</td>\n",
       "      <td>Online</td>\n",
       "      <td>M</td>\n",
       "      <td>2013-09-14</td>\n",
       "      <td>667593514</td>\n",
       "      <td>2013-10-19</td>\n",
       "      <td>4611.0</td>\n",
       "      <td>109.28</td>\n",
       "      <td>35.84</td>\n",
       "      <td>503890.08</td>\n",
       "      <td>165258.24</td>\n",
       "      <td>338631.84</td>\n",
       "    </tr>\n",
       "    <tr>\n",
       "      <th>2</th>\n",
       "      <td>Australia and Oceania</td>\n",
       "      <td>Papua New Guinea</td>\n",
       "      <td>Meat</td>\n",
       "      <td>Offline</td>\n",
       "      <td>M</td>\n",
       "      <td>2015-05-15</td>\n",
       "      <td>940995585</td>\n",
       "      <td>2015-06-04</td>\n",
       "      <td>360.0</td>\n",
       "      <td>421.89</td>\n",
       "      <td>364.69</td>\n",
       "      <td>151880.40</td>\n",
       "      <td>131288.40</td>\n",
       "      <td>20592.00</td>\n",
       "    </tr>\n",
       "    <tr>\n",
       "      <th>3</th>\n",
       "      <td>Sub-Saharan Africa</td>\n",
       "      <td>Djibouti</td>\n",
       "      <td>Clothes</td>\n",
       "      <td>Offline</td>\n",
       "      <td>H</td>\n",
       "      <td>2017-05-17</td>\n",
       "      <td>880811536</td>\n",
       "      <td>2017-07-02</td>\n",
       "      <td>562.0</td>\n",
       "      <td>109.28</td>\n",
       "      <td>35.84</td>\n",
       "      <td>61415.36</td>\n",
       "      <td>20142.08</td>\n",
       "      <td>41273.28</td>\n",
       "    </tr>\n",
       "    <tr>\n",
       "      <th>4</th>\n",
       "      <td>Europe</td>\n",
       "      <td>Slovakia</td>\n",
       "      <td>Beverages</td>\n",
       "      <td>Offline</td>\n",
       "      <td>L</td>\n",
       "      <td>2016-10-26</td>\n",
       "      <td>174590194</td>\n",
       "      <td>2016-12-04</td>\n",
       "      <td>3973.0</td>\n",
       "      <td>47.45</td>\n",
       "      <td>31.79</td>\n",
       "      <td>188518.85</td>\n",
       "      <td>126301.67</td>\n",
       "      <td>62217.18</td>\n",
       "    </tr>\n",
       "  </tbody>\n",
       "</table>\n",
       "</div>"
      ],
      "text/plain": [
       "                         Region           Country   ItemType SalesChannel  \\\n",
       "0            Sub-Saharan Africa      South Africa     Fruits      Offline   \n",
       "1  Middle East and North Africa           Morocco    Clothes       Online   \n",
       "2         Australia and Oceania  Papua New Guinea       Meat      Offline   \n",
       "3            Sub-Saharan Africa          Djibouti    Clothes      Offline   \n",
       "4                        Europe          Slovakia  Beverages      Offline   \n",
       "\n",
       "  OrderPriority  OrderDate    OrderID   ShipDate  UnitsSold  UnitPrice  \\\n",
       "0             M 2012-07-27  443368995 2012-07-28     1593.0       9.33   \n",
       "1             M 2013-09-14  667593514 2013-10-19     4611.0     109.28   \n",
       "2             M 2015-05-15  940995585 2015-06-04      360.0     421.89   \n",
       "3             H 2017-05-17  880811536 2017-07-02      562.0     109.28   \n",
       "4             L 2016-10-26  174590194 2016-12-04     3973.0      47.45   \n",
       "\n",
       "   UnitCost  TotalRevenue  TotalCost  TotalProfit  \n",
       "0      6.92      14862.69   11023.56      3839.13  \n",
       "1     35.84     503890.08  165258.24    338631.84  \n",
       "2    364.69     151880.40  131288.40     20592.00  \n",
       "3     35.84      61415.36   20142.08     41273.28  \n",
       "4     31.79     188518.85  126301.67     62217.18  "
      ]
     },
     "execution_count": 21,
     "metadata": {},
     "output_type": "execute_result"
    }
   ],
   "source": [
    "data.head()"
   ]
  }
 ],
 "metadata": {
  "kernelspec": {
   "display_name": "Python 3",
   "language": "python",
   "name": "python3"
  },
  "language_info": {
   "codemirror_mode": {
    "name": "ipython",
    "version": 3
   },
   "file_extension": ".py",
   "mimetype": "text/x-python",
   "name": "python",
   "nbconvert_exporter": "python",
   "pygments_lexer": "ipython3",
   "version": "3.8.5"
  }
 },
 "nbformat": 4,
 "nbformat_minor": 4
}
